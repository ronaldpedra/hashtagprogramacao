{
 "cells": [
  {
   "cell_type": "code",
   "execution_count": 3,
   "id": "a1cefd20",
   "metadata": {},
   "outputs": [
    {
     "name": "stdout",
     "output_type": "stream",
     "text": [
      "O faturamento da loja foi 1000\n",
      "O custo da loja foi 500\n",
      "Assim, o lucro da loja foi de 500 reais\n"
     ]
    }
   ],
   "source": [
    "faturamento = 1000\n",
    "custo = 500\n",
    "lucro = faturamento - custo\n",
    "\n",
    "print('O faturamento da loja foi ' + str(faturamento))\n",
    "print('O custo da loja foi ' + str(custo))\n",
    "print('Assim, o lucro da loja foi de ' + str(lucro) + ' reais')\n"
   ]
  }
 ],
 "metadata": {
  "kernelspec": {
   "display_name": "Python 3",
   "language": "python",
   "name": "python3"
  },
  "language_info": {
   "codemirror_mode": {
    "name": "ipython",
    "version": 3
   },
   "file_extension": ".py",
   "mimetype": "text/x-python",
   "name": "python",
   "nbconvert_exporter": "python",
   "pygments_lexer": "ipython3",
   "version": "3.13.3"
  }
 },
 "nbformat": 4,
 "nbformat_minor": 5
}
