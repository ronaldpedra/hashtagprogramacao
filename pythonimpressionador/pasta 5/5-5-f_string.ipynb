{
 "cells": [
  {
   "cell_type": "code",
   "execution_count": 2,
   "id": "2a019a68",
   "metadata": {},
   "outputs": [
    {
     "name": "stdout",
     "output_type": "stream",
     "text": [
      "O faturamento foi de 1000 e o lucro foi de 600.\n",
      "O faturamento doi de 1000 e o lucro foi de 600.\n"
     ]
    }
   ],
   "source": [
    "faturamento = 1000\n",
    "custo = 400\n",
    "lucro = faturamento - custo\n",
    "\n",
    "# com format\n",
    "print('O faturamento foi de {} e o lucro foi de {}.'.format(faturamento, lucro))\n",
    "\n",
    "# com f-string\n",
    "print(f'O faturamento doi de {faturamento} e o lucro foi de {lucro}.')"
   ]
  },
  {
   "cell_type": "code",
   "execution_count": 5,
   "id": "669ee76f",
   "metadata": {},
   "outputs": [
    {
     "name": "stdout",
     "output_type": "stream",
     "text": [
      "O lucro foi de 600.0.\n"
     ]
    }
   ],
   "source": [
    "faturamento = float(input('Insira o faturamento: '))\n",
    "custo = float(input('Insira o custo: '))\n",
    "lucro = faturamento - custo\n",
    "\n",
    "print(f'O lucro foi de {lucro}.')"
   ]
  }
 ],
 "metadata": {
  "kernelspec": {
   "display_name": "Python 3",
   "language": "python",
   "name": "python3"
  },
  "language_info": {
   "codemirror_mode": {
    "name": "ipython",
    "version": 3
   },
   "file_extension": ".py",
   "mimetype": "text/x-python",
   "name": "python",
   "nbconvert_exporter": "python",
   "pygments_lexer": "ipython3",
   "version": "3.13.3"
  }
 },
 "nbformat": 4,
 "nbformat_minor": 5
}
