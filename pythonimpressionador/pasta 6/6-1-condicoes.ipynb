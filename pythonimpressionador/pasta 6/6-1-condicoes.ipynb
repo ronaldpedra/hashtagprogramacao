{
 "cells": [
  {
   "cell_type": "markdown",
   "id": "6f7fb360",
   "metadata": {},
   "source": [
    "if condição:<br>\n",
    "    o que fazer caso a condição seja verdadeira"
   ]
  },
  {
   "cell_type": "code",
   "execution_count": 4,
   "id": "7cfa9d01",
   "metadata": {},
   "outputs": [],
   "source": [
    "meta = 50000\n",
    "qtd_vendida = 49000\n",
    "\n",
    "if qtd_vendida > meta:\n",
    "    print('Batemos a meta')"
   ]
  },
  {
   "cell_type": "code",
   "execution_count": 6,
   "id": "6080b5c2",
   "metadata": {},
   "outputs": [
    {
     "name": "stdout",
     "output_type": "stream",
     "text": [
      "Não batemos a meta de 50000. Vendemos somente 49000\n"
     ]
    }
   ],
   "source": [
    "if qtd_vendida > meta:\n",
    "    print('Batemos a meta')\n",
    "else:\n",
    "    print(f'Não batemos a meta de {meta}. Vendemos somente {qtd_vendida}')\n"
   ]
  }
 ],
 "metadata": {
  "kernelspec": {
   "display_name": "Python 3",
   "language": "python",
   "name": "python3"
  },
  "language_info": {
   "codemirror_mode": {
    "name": "ipython",
    "version": 3
   },
   "file_extension": ".py",
   "mimetype": "text/x-python",
   "name": "python",
   "nbconvert_exporter": "python",
   "pygments_lexer": "ipython3",
   "version": "3.13.3"
  }
 },
 "nbformat": 4,
 "nbformat_minor": 5
}
