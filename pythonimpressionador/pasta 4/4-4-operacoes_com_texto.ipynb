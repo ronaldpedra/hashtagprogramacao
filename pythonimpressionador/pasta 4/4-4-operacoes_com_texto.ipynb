{
 "cells": [
  {
   "cell_type": "code",
   "execution_count": 3,
   "id": "0fce94fd",
   "metadata": {},
   "outputs": [
    {
     "name": "stdout",
     "output_type": "stream",
     "text": [
      "meu nome é Ronald\n",
      "True\n",
      "False\n"
     ]
    }
   ],
   "source": [
    "print('meu nome é ' + 'Ronald')\n",
    "print('R' in 'Ronald')\n",
    "print('r' in 'Ronald')"
   ]
  }
 ],
 "metadata": {
  "kernelspec": {
   "display_name": "Python 3",
   "language": "python",
   "name": "python3"
  },
  "language_info": {
   "codemirror_mode": {
    "name": "ipython",
    "version": 3
   },
   "file_extension": ".py",
   "mimetype": "text/x-python",
   "name": "python",
   "nbconvert_exporter": "python",
   "pygments_lexer": "ipython3",
   "version": "3.13.3"
  }
 },
 "nbformat": 4,
 "nbformat_minor": 5
}
