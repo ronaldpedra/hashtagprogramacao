{
 "cells": [
  {
   "cell_type": "markdown",
   "id": "9d67a3eb",
   "metadata": {},
   "source": [
    "Meu primeiro Programa, bora pra cima Hashtag"
   ]
  },
  {
   "cell_type": "code",
   "execution_count": 3,
   "id": "57817b1f",
   "metadata": {},
   "outputs": [
    {
     "name": "stdout",
     "output_type": "stream",
     "text": [
      "123\n",
      "1\n",
      "um texto qualquer com aspas duplas\n",
      "um texto qualquer com aspas simples\n"
     ]
    }
   ],
   "source": [
    "print(123)\n",
    "print(1)\n",
    "print(\"um texto qualquer com aspas duplas\")\n",
    "print('um texto qualquer com aspas simples')"
   ]
  }
 ],
 "metadata": {
  "kernelspec": {
   "display_name": "Python 3",
   "language": "python",
   "name": "python3"
  },
  "language_info": {
   "codemirror_mode": {
    "name": "ipython",
    "version": 3
   },
   "file_extension": ".py",
   "mimetype": "text/x-python",
   "name": "python",
   "nbconvert_exporter": "python",
   "pygments_lexer": "ipython3",
   "version": "3.13.3"
  }
 },
 "nbformat": 4,
 "nbformat_minor": 5
}
